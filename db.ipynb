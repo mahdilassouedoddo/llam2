{
 "cells": [
  {
   "cell_type": "code",
   "execution_count": 2,
   "metadata": {},
   "outputs": [
    {
     "name": "stdout",
     "output_type": "stream",
     "text": [
      "                             session_id       role  \\\n",
      "0  e3456546-4d44-47d2-8cbb-b16308ba9123       user   \n",
      "1  e3456546-4d44-47d2-8cbb-b16308ba9123  assistant   \n",
      "2  11f92190-1117-4ef9-bb51-94dbc8b3a444       user   \n",
      "3  11f92190-1117-4ef9-bb51-94dbc8b3a444  assistant   \n",
      "4  11f92190-1117-4ef9-bb51-94dbc8b3a444       user   \n",
      "5  11f92190-1117-4ef9-bb51-94dbc8b3a444  assistant   \n",
      "6  11f92190-1117-4ef9-bb51-94dbc8b3a444       user   \n",
      "7  11f92190-1117-4ef9-bb51-94dbc8b3a444  assistant   \n",
      "\n",
      "                                             content  \n",
      "0                                    c'est quoi ABS?  \n",
      "1   ABS signifie Asset Backed Securities. Il s'ag...  \n",
      "2                                   c'est quoi ABS ?  \n",
      "3   ABS signifie Asset Backed Securities. Il s'ag...  \n",
      "4                                            et DMA?  \n",
      "5   DMMA, ou Direct Market Access, fait référence...  \n",
      "6                               C'est quoi booking ?  \n",
      "7   Booking est le processus par lequel des ticke...  \n"
     ]
    }
   ],
   "source": [
    "import sqlite3\n",
    "import pandas as pd\n",
    "conn=sqlite3.connect('chat_history.db')\n",
    "df=pd.read_sql_query(\"SELECT * FROM chat_history \",conn)\n",
    "print(df)\n",
    "conn.close()"
   ]
  }
 ],
 "metadata": {
  "kernelspec": {
   "display_name": "hey",
   "language": "python",
   "name": "python3"
  },
  "language_info": {
   "codemirror_mode": {
    "name": "ipython",
    "version": 3
   },
   "file_extension": ".py",
   "mimetype": "text/x-python",
   "name": "python",
   "nbconvert_exporter": "python",
   "pygments_lexer": "ipython3",
   "version": "3.11.9"
  }
 },
 "nbformat": 4,
 "nbformat_minor": 2
}
